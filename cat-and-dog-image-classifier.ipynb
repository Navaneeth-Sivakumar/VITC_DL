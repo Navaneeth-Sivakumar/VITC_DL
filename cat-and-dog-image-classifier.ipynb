{
 "cells": [
  {
   "cell_type": "markdown",
   "id": "96f8884d",
   "metadata": {
    "id": "Y_J2FcCFFy3D",
    "papermill": {
     "duration": 0.003466,
     "end_time": "2024-02-05T17:43:09.319695",
     "exception": false,
     "start_time": "2024-02-05T17:43:09.316229",
     "status": "completed"
    },
    "tags": []
   },
   "source": [
    "# Cat and Dog Image Classifier"
   ]
  },
  {
   "cell_type": "code",
   "execution_count": 1,
   "id": "3929ac7f",
   "metadata": {
    "execution": {
     "iopub.execute_input": "2024-02-05T17:43:09.327478Z",
     "iopub.status.busy": "2024-02-05T17:43:09.326909Z",
     "iopub.status.idle": "2024-02-05T17:43:20.717053Z",
     "shell.execute_reply": "2024-02-05T17:43:20.716249Z"
    },
    "id": "la_Oz6oLlub6",
    "outputId": "c2773c02-d3c2-48cb-aaa2-38eb1b2fb63e",
    "papermill": {
     "duration": 11.396446,
     "end_time": "2024-02-05T17:43:20.719317",
     "exception": false,
     "start_time": "2024-02-05T17:43:09.322871",
     "status": "completed"
    },
    "tags": []
   },
   "outputs": [
    {
     "name": "stderr",
     "output_type": "stream",
     "text": [
      "/opt/conda/lib/python3.10/site-packages/scipy/__init__.py:146: UserWarning: A NumPy version >=1.16.5 and <1.23.0 is required for this version of SciPy (detected version 1.24.3\n",
      "  warnings.warn(f\"A NumPy version >={np_minversion} and <{np_maxversion}\"\n"
     ]
    }
   ],
   "source": [
    "import tensorflow as tf\n",
    "\n",
    "from tensorflow.keras.models import Sequential\n",
    "from tensorflow.keras.layers import Dense, Conv2D, Flatten, Dropout, MaxPooling2D\n",
    "from tensorflow.keras.preprocessing.image import ImageDataGenerator\n",
    "\n",
    "import os\n",
    "import numpy as np\n",
    "import matplotlib.pyplot as plt"
   ]
  },
  {
   "cell_type": "code",
   "execution_count": 2,
   "id": "ae7d171c",
   "metadata": {
    "execution": {
     "iopub.execute_input": "2024-02-05T17:43:20.727162Z",
     "iopub.status.busy": "2024-02-05T17:43:20.726611Z",
     "iopub.status.idle": "2024-02-05T17:43:20.795288Z",
     "shell.execute_reply": "2024-02-05T17:43:20.794600Z"
    },
    "id": "jaF8r6aOl48C",
    "outputId": "581a4db0-85eb-4c3e-a0ec-b4f2eee9cd5b",
    "papermill": {
     "duration": 0.074485,
     "end_time": "2024-02-05T17:43:20.797118",
     "exception": false,
     "start_time": "2024-02-05T17:43:20.722633",
     "status": "completed"
    },
    "tags": []
   },
   "outputs": [],
   "source": [
    "PATH1 = '/kaggle/input/cats-and-dogs'\n",
    "PATH2 = '/kaggle/input/cats-and-dogs-image-classification'\n",
    "\n",
    "train_dir = os.path.join(PATH1, 'train')\n",
    "validation_dir = os.path.join(PATH1, 'val')\n",
    "test_dir = os.path.join(PATH2, 'test')\n",
    "\n",
    "# Get number of files in each directory. The train and validation directories\n",
    "# each have the subdirecories \"dogs\" and \"cats\".\n",
    "total_train = sum([len(files) for r, d, files in os.walk(train_dir)])\n",
    "total_val = sum([len(files) for r, d, files in os.walk(validation_dir)])\n",
    "total_test = sum([len(files) for r, d, files in os.walk(test_dir)])\n",
    "\n",
    "# Variables for pre-processing and training.\n",
    "batch_size = 128\n",
    "epochs = 100\n",
    "IMG_HEIGHT = 150\n",
    "IMG_WIDTH = 150"
   ]
  },
  {
   "cell_type": "code",
   "execution_count": 3,
   "id": "614751d9",
   "metadata": {
    "execution": {
     "iopub.execute_input": "2024-02-05T17:43:20.804609Z",
     "iopub.status.busy": "2024-02-05T17:43:20.803950Z",
     "iopub.status.idle": "2024-02-05T17:43:20.833953Z",
     "shell.execute_reply": "2024-02-05T17:43:20.833226Z"
    },
    "id": "EOJFeEfumns6",
    "outputId": "8ef9d3cf-2de0-4cd7-943b-203b975c543b",
    "papermill": {
     "duration": 0.035647,
     "end_time": "2024-02-05T17:43:20.835824",
     "exception": false,
     "start_time": "2024-02-05T17:43:20.800177",
     "status": "completed"
    },
    "tags": []
   },
   "outputs": [
    {
     "name": "stdout",
     "output_type": "stream",
     "text": [
      "Found 275 images belonging to 2 classes.\n",
      "Found 70 images belonging to 2 classes.\n",
      "Found 0 images belonging to 1 classes.\n"
     ]
    }
   ],
   "source": [
    "train_image_generator      = ImageDataGenerator(rescale=1./255)\n",
    "validation_image_generator = ImageDataGenerator(rescale=1./255)\n",
    "test_image_generator       = ImageDataGenerator(rescale=1./255)\n",
    "\n",
    "train_data_gen = train_image_generator.flow_from_directory(\n",
    "                    train_dir,\n",
    "                    target_size=(IMG_HEIGHT, IMG_WIDTH),\n",
    "                    batch_size=batch_size,\n",
    "                    class_mode='binary')\n",
    "\n",
    "val_data_gen   = validation_image_generator.flow_from_directory(\n",
    "                    validation_dir,\n",
    "                    target_size=(IMG_HEIGHT, IMG_WIDTH),\n",
    "                    batch_size=batch_size,\n",
    "                    class_mode='binary')\n",
    "\n",
    "test_data_gen  = test_image_generator.flow_from_directory(\n",
    "                    test_dir,\n",
    "                    target_size=(IMG_HEIGHT, IMG_WIDTH),\n",
    "                    batch_size=batch_size,\n",
    "                    classes=['binary'])"
   ]
  },
  {
   "cell_type": "code",
   "execution_count": 4,
   "id": "976e26fb",
   "metadata": {
    "execution": {
     "iopub.execute_input": "2024-02-05T17:43:20.843628Z",
     "iopub.status.busy": "2024-02-05T17:43:20.843359Z",
     "iopub.status.idle": "2024-02-05T17:43:21.831998Z",
     "shell.execute_reply": "2024-02-05T17:43:21.831091Z"
    },
    "id": "k8aZkwMam4UY",
    "outputId": "81c1c31a-2d7e-4ed1-c2dd-7e3876719e11",
    "papermill": {
     "duration": 1.003046,
     "end_time": "2024-02-05T17:43:21.842321",
     "exception": false,
     "start_time": "2024-02-05T17:43:20.839275",
     "status": "completed"
    },
    "tags": []
   },
   "outputs": [
    {
     "name": "stdout",
     "output_type": "stream",
     "text": [
      "Model: \"sequential\"\n",
      "_________________________________________________________________\n",
      " Layer (type)                Output Shape              Param #   \n",
      "=================================================================\n",
      " conv2d (Conv2D)             (None, 148, 148, 32)      896       \n",
      "                                                                 \n",
      " max_pooling2d (MaxPooling2  (None, 74, 74, 32)        0         \n",
      " D)                                                              \n",
      "                                                                 \n",
      " conv2d_1 (Conv2D)           (None, 72, 72, 64)        18496     \n",
      "                                                                 \n",
      " max_pooling2d_1 (MaxPoolin  (None, 36, 36, 64)        0         \n",
      " g2D)                                                            \n",
      "                                                                 \n",
      " conv2d_2 (Conv2D)           (None, 34, 34, 128)       73856     \n",
      "                                                                 \n",
      " max_pooling2d_2 (MaxPoolin  (None, 17, 17, 128)       0         \n",
      " g2D)                                                            \n",
      "                                                                 \n",
      " flatten (Flatten)           (None, 36992)             0         \n",
      "                                                                 \n",
      " dense (Dense)               (None, 512)               18940416  \n",
      "                                                                 \n",
      " dense_1 (Dense)             (None, 1)                 513       \n",
      "                                                                 \n",
      "=================================================================\n",
      "Total params: 19034177 (72.61 MB)\n",
      "Trainable params: 19034177 (72.61 MB)\n",
      "Non-trainable params: 0 (0.00 Byte)\n",
      "_________________________________________________________________\n"
     ]
    }
   ],
   "source": [
    "from keras.layers import Input\n",
    "model = Sequential()\n",
    "\n",
    "# Convolutions\n",
    "model.add(Input(shape=(IMG_HEIGHT, IMG_WIDTH, 3)))\n",
    "model.add(Conv2D(32, (3,3)))\n",
    "model.add(MaxPooling2D(pool_size=(2, 2)))\n",
    "model.add(Conv2D(64, (3,3)))\n",
    "model.add(MaxPooling2D(pool_size=(2, 2)))\n",
    "model.add(Conv2D(128, (3,3)))\n",
    "model.add(MaxPooling2D(pool_size=(2, 2)))\n",
    "\n",
    "# Dense layers\n",
    "model.add(Flatten())\n",
    "model.add(Dense(512, activation='relu'))\n",
    "model.add(Dense(1, activation='sigmoid'))\n",
    "\n",
    "# Optimizer\n",
    "model.compile(optimizer='adam',\n",
    "              loss='binary_crossentropy',\n",
    "              metrics=['accuracy'])\n",
    "\n",
    "model.summary()"
   ]
  },
  {
   "cell_type": "code",
   "execution_count": 5,
   "id": "8932577b",
   "metadata": {
    "execution": {
     "iopub.execute_input": "2024-02-05T17:43:21.854750Z",
     "iopub.status.busy": "2024-02-05T17:43:21.854440Z",
     "iopub.status.idle": "2024-02-05T17:44:58.117843Z",
     "shell.execute_reply": "2024-02-05T17:44:58.116994Z"
    },
    "id": "1niQDz5x6K7y",
    "outputId": "0bceccc5-9773-4c66-e5d3-f4b2173c3b1b",
    "papermill": {
     "duration": 96.271949,
     "end_time": "2024-02-05T17:44:58.119947",
     "exception": false,
     "start_time": "2024-02-05T17:43:21.847998",
     "status": "completed"
    },
    "tags": []
   },
   "outputs": [
    {
     "name": "stdout",
     "output_type": "stream",
     "text": [
      "Epoch 1/100\n",
      "3/3 [==============================] - 6s 601ms/step - loss: 1.3847 - accuracy: 0.3855 - val_loss: 10.0332 - val_accuracy: 0.3429\n",
      "Epoch 2/100\n",
      "3/3 [==============================] - 1s 285ms/step - loss: 5.1193 - accuracy: 0.4945 - val_loss: 0.6176 - val_accuracy: 0.6571\n",
      "Epoch 3/100\n",
      "3/3 [==============================] - 1s 425ms/step - loss: 1.5732 - accuracy: 0.5200 - val_loss: 1.8403 - val_accuracy: 0.3429\n",
      "Epoch 4/100\n",
      "3/3 [==============================] - 1s 320ms/step - loss: 1.3261 - accuracy: 0.3745 - val_loss: 1.0129 - val_accuracy: 0.6571\n",
      "Epoch 5/100\n",
      "3/3 [==============================] - 1s 283ms/step - loss: 1.0121 - accuracy: 0.6545 - val_loss: 0.8812 - val_accuracy: 0.6571\n",
      "Epoch 6/100\n",
      "3/3 [==============================] - 1s 428ms/step - loss: 0.7720 - accuracy: 0.6545 - val_loss: 0.6859 - val_accuracy: 0.6571\n",
      "Epoch 7/100\n",
      "3/3 [==============================] - 1s 423ms/step - loss: 0.6523 - accuracy: 0.6545 - val_loss: 0.6554 - val_accuracy: 0.6571\n",
      "Epoch 8/100\n",
      "3/3 [==============================] - 1s 290ms/step - loss: 0.6650 - accuracy: 0.6545 - val_loss: 0.6701 - val_accuracy: 0.6571\n",
      "Epoch 9/100\n",
      "3/3 [==============================] - 1s 282ms/step - loss: 0.8138 - accuracy: 0.5782 - val_loss: 0.6694 - val_accuracy: 0.6571\n",
      "Epoch 10/100\n",
      "3/3 [==============================] - 1s 259ms/step - loss: 0.6542 - accuracy: 0.6545 - val_loss: 0.6579 - val_accuracy: 0.6571\n",
      "Epoch 11/100\n",
      "3/3 [==============================] - 1s 406ms/step - loss: 0.6323 - accuracy: 0.6545 - val_loss: 0.6483 - val_accuracy: 0.6571\n",
      "Epoch 12/100\n",
      "3/3 [==============================] - 1s 257ms/step - loss: 0.6232 - accuracy: 0.6545 - val_loss: 0.6342 - val_accuracy: 0.6571\n",
      "Epoch 13/100\n",
      "3/3 [==============================] - 1s 415ms/step - loss: 0.6154 - accuracy: 0.6545 - val_loss: 0.6463 - val_accuracy: 0.6571\n",
      "Epoch 14/100\n",
      "3/3 [==============================] - 1s 439ms/step - loss: 0.6088 - accuracy: 0.6545 - val_loss: 0.6414 - val_accuracy: 0.6571\n",
      "Epoch 15/100\n",
      "3/3 [==============================] - 1s 265ms/step - loss: 0.5988 - accuracy: 0.6545 - val_loss: 0.6494 - val_accuracy: 0.6571\n",
      "Epoch 16/100\n",
      "3/3 [==============================] - 1s 264ms/step - loss: 0.5918 - accuracy: 0.6800 - val_loss: 0.6482 - val_accuracy: 0.6714\n",
      "Epoch 17/100\n",
      "3/3 [==============================] - 1s 259ms/step - loss: 0.5958 - accuracy: 0.7018 - val_loss: 0.6480 - val_accuracy: 0.6857\n",
      "Epoch 18/100\n",
      "3/3 [==============================] - 1s 419ms/step - loss: 0.5968 - accuracy: 0.6618 - val_loss: 0.6721 - val_accuracy: 0.6571\n",
      "Epoch 19/100\n",
      "3/3 [==============================] - 1s 260ms/step - loss: 0.5722 - accuracy: 0.6582 - val_loss: 0.6660 - val_accuracy: 0.6714\n",
      "Epoch 20/100\n",
      "3/3 [==============================] - 1s 261ms/step - loss: 0.5953 - accuracy: 0.6691 - val_loss: 0.6612 - val_accuracy: 0.6286\n",
      "Epoch 21/100\n",
      "3/3 [==============================] - 1s 253ms/step - loss: 0.5941 - accuracy: 0.6436 - val_loss: 0.6563 - val_accuracy: 0.6143\n",
      "Epoch 22/100\n",
      "3/3 [==============================] - 1s 415ms/step - loss: 0.5638 - accuracy: 0.6764 - val_loss: 0.7542 - val_accuracy: 0.6714\n",
      "Epoch 23/100\n",
      "3/3 [==============================] - 1s 286ms/step - loss: 0.5642 - accuracy: 0.6800 - val_loss: 0.6598 - val_accuracy: 0.6143\n",
      "Epoch 24/100\n",
      "3/3 [==============================] - 1s 249ms/step - loss: 0.5445 - accuracy: 0.6873 - val_loss: 0.7055 - val_accuracy: 0.6429\n",
      "Epoch 25/100\n",
      "3/3 [==============================] - 1s 423ms/step - loss: 0.7505 - accuracy: 0.6509 - val_loss: 0.7570 - val_accuracy: 0.6571\n",
      "Epoch 26/100\n",
      "3/3 [==============================] - 1s 271ms/step - loss: 0.5480 - accuracy: 0.6982 - val_loss: 0.7143 - val_accuracy: 0.5429\n",
      "Epoch 27/100\n",
      "3/3 [==============================] - 1s 261ms/step - loss: 0.6483 - accuracy: 0.6109 - val_loss: 0.6439 - val_accuracy: 0.6714\n",
      "Epoch 28/100\n",
      "3/3 [==============================] - 1s 267ms/step - loss: 0.5659 - accuracy: 0.6909 - val_loss: 0.7106 - val_accuracy: 0.6714\n",
      "Epoch 29/100\n",
      "3/3 [==============================] - 1s 263ms/step - loss: 0.5841 - accuracy: 0.6691 - val_loss: 0.6410 - val_accuracy: 0.6571\n",
      "Epoch 30/100\n",
      "3/3 [==============================] - 1s 243ms/step - loss: 0.5615 - accuracy: 0.7200 - val_loss: 0.6567 - val_accuracy: 0.6714\n",
      "Epoch 31/100\n",
      "3/3 [==============================] - 1s 244ms/step - loss: 0.5674 - accuracy: 0.6909 - val_loss: 0.6629 - val_accuracy: 0.6429\n",
      "Epoch 32/100\n",
      "3/3 [==============================] - 1s 251ms/step - loss: 0.5397 - accuracy: 0.7018 - val_loss: 0.7419 - val_accuracy: 0.6714\n",
      "Epoch 33/100\n",
      "3/3 [==============================] - 1s 410ms/step - loss: 0.5408 - accuracy: 0.6945 - val_loss: 0.6529 - val_accuracy: 0.6286\n",
      "Epoch 34/100\n",
      "3/3 [==============================] - 1s 273ms/step - loss: 0.5285 - accuracy: 0.7200 - val_loss: 0.6511 - val_accuracy: 0.6429\n",
      "Epoch 35/100\n",
      "3/3 [==============================] - 1s 262ms/step - loss: 0.5293 - accuracy: 0.7091 - val_loss: 0.6718 - val_accuracy: 0.6857\n",
      "Epoch 36/100\n",
      "3/3 [==============================] - 1s 256ms/step - loss: 0.5318 - accuracy: 0.6909 - val_loss: 0.7068 - val_accuracy: 0.6857\n",
      "Epoch 37/100\n",
      "3/3 [==============================] - 1s 269ms/step - loss: 0.5203 - accuracy: 0.7164 - val_loss: 0.6672 - val_accuracy: 0.6286\n",
      "Epoch 38/100\n",
      "3/3 [==============================] - 1s 281ms/step - loss: 0.5194 - accuracy: 0.7273 - val_loss: 0.6741 - val_accuracy: 0.6714\n",
      "Epoch 39/100\n",
      "3/3 [==============================] - 1s 415ms/step - loss: 0.5094 - accuracy: 0.7127 - val_loss: 0.7237 - val_accuracy: 0.6571\n",
      "Epoch 40/100\n",
      "3/3 [==============================] - 1s 413ms/step - loss: 0.5292 - accuracy: 0.7055 - val_loss: 0.7381 - val_accuracy: 0.6571\n",
      "Epoch 41/100\n",
      "3/3 [==============================] - 1s 428ms/step - loss: 0.4983 - accuracy: 0.7309 - val_loss: 0.6956 - val_accuracy: 0.6286\n",
      "Epoch 42/100\n",
      "3/3 [==============================] - 1s 235ms/step - loss: 0.5019 - accuracy: 0.7273 - val_loss: 0.7296 - val_accuracy: 0.6429\n",
      "Epoch 43/100\n",
      "3/3 [==============================] - 1s 268ms/step - loss: 0.4913 - accuracy: 0.7127 - val_loss: 0.7318 - val_accuracy: 0.6429\n",
      "Epoch 44/100\n",
      "3/3 [==============================] - 1s 409ms/step - loss: 0.4982 - accuracy: 0.7527 - val_loss: 0.7078 - val_accuracy: 0.6429\n",
      "Epoch 45/100\n",
      "3/3 [==============================] - 1s 412ms/step - loss: 0.4780 - accuracy: 0.7418 - val_loss: 0.7712 - val_accuracy: 0.6429\n",
      "Epoch 46/100\n",
      "3/3 [==============================] - 1s 412ms/step - loss: 0.4877 - accuracy: 0.7455 - val_loss: 0.7301 - val_accuracy: 0.6429\n",
      "Epoch 47/100\n",
      "3/3 [==============================] - 1s 258ms/step - loss: 0.4776 - accuracy: 0.7527 - val_loss: 0.7216 - val_accuracy: 0.6143\n",
      "Epoch 48/100\n",
      "3/3 [==============================] - 1s 274ms/step - loss: 0.4801 - accuracy: 0.7382 - val_loss: 0.7977 - val_accuracy: 0.6571\n",
      "Epoch 49/100\n",
      "3/3 [==============================] - 1s 273ms/step - loss: 0.4717 - accuracy: 0.7491 - val_loss: 0.7309 - val_accuracy: 0.6000\n",
      "Epoch 50/100\n",
      "3/3 [==============================] - 1s 257ms/step - loss: 0.4579 - accuracy: 0.7418 - val_loss: 0.8447 - val_accuracy: 0.6286\n",
      "Epoch 51/100\n",
      "3/3 [==============================] - 1s 401ms/step - loss: 0.4693 - accuracy: 0.7491 - val_loss: 0.7418 - val_accuracy: 0.6000\n",
      "Epoch 52/100\n",
      "3/3 [==============================] - 1s 268ms/step - loss: 0.4682 - accuracy: 0.7382 - val_loss: 0.7687 - val_accuracy: 0.6714\n",
      "Epoch 53/100\n",
      "3/3 [==============================] - 1s 264ms/step - loss: 0.4470 - accuracy: 0.7709 - val_loss: 0.7472 - val_accuracy: 0.5714\n",
      "Epoch 54/100\n",
      "3/3 [==============================] - 1s 411ms/step - loss: 0.4453 - accuracy: 0.7782 - val_loss: 0.8242 - val_accuracy: 0.6286\n",
      "Epoch 55/100\n",
      "3/3 [==============================] - 1s 247ms/step - loss: 0.4471 - accuracy: 0.7564 - val_loss: 0.7430 - val_accuracy: 0.5714\n",
      "Epoch 56/100\n",
      "3/3 [==============================] - 1s 270ms/step - loss: 0.4756 - accuracy: 0.7709 - val_loss: 0.7678 - val_accuracy: 0.6286\n",
      "Epoch 57/100\n",
      "3/3 [==============================] - 1s 410ms/step - loss: 0.5288 - accuracy: 0.6982 - val_loss: 0.8416 - val_accuracy: 0.6429\n",
      "Epoch 58/100\n",
      "3/3 [==============================] - 1s 412ms/step - loss: 0.4989 - accuracy: 0.7600 - val_loss: 0.7786 - val_accuracy: 0.5143\n",
      "Epoch 59/100\n",
      "3/3 [==============================] - 1s 424ms/step - loss: 0.4850 - accuracy: 0.7564 - val_loss: 0.8062 - val_accuracy: 0.6571\n",
      "Epoch 60/100\n",
      "3/3 [==============================] - 1s 402ms/step - loss: 0.4805 - accuracy: 0.7273 - val_loss: 0.8131 - val_accuracy: 0.6714\n",
      "Epoch 61/100\n",
      "3/3 [==============================] - 1s 241ms/step - loss: 0.4168 - accuracy: 0.7927 - val_loss: 0.7509 - val_accuracy: 0.5857\n",
      "Epoch 62/100\n",
      "3/3 [==============================] - 1s 282ms/step - loss: 0.4347 - accuracy: 0.7891 - val_loss: 0.8119 - val_accuracy: 0.6429\n",
      "Epoch 63/100\n",
      "3/3 [==============================] - 1s 283ms/step - loss: 0.4163 - accuracy: 0.7891 - val_loss: 0.7552 - val_accuracy: 0.5286\n",
      "Epoch 64/100\n",
      "3/3 [==============================] - 1s 282ms/step - loss: 0.4247 - accuracy: 0.8182 - val_loss: 0.7623 - val_accuracy: 0.5286\n",
      "Epoch 65/100\n",
      "3/3 [==============================] - 1s 265ms/step - loss: 0.3996 - accuracy: 0.8109 - val_loss: 0.8937 - val_accuracy: 0.6571\n",
      "Epoch 66/100\n",
      "3/3 [==============================] - 1s 422ms/step - loss: 0.4158 - accuracy: 0.7782 - val_loss: 0.8158 - val_accuracy: 0.5714\n",
      "Epoch 67/100\n",
      "3/3 [==============================] - 1s 277ms/step - loss: 0.3900 - accuracy: 0.8109 - val_loss: 0.8728 - val_accuracy: 0.6286\n",
      "Epoch 68/100\n",
      "3/3 [==============================] - 1s 421ms/step - loss: 0.3733 - accuracy: 0.8036 - val_loss: 0.8672 - val_accuracy: 0.6000\n",
      "Epoch 69/100\n",
      "3/3 [==============================] - 1s 260ms/step - loss: 0.3639 - accuracy: 0.8218 - val_loss: 0.8902 - val_accuracy: 0.6000\n",
      "Epoch 70/100\n",
      "3/3 [==============================] - 1s 271ms/step - loss: 0.3571 - accuracy: 0.8327 - val_loss: 0.9099 - val_accuracy: 0.6000\n",
      "Epoch 71/100\n",
      "3/3 [==============================] - 1s 276ms/step - loss: 0.3509 - accuracy: 0.8291 - val_loss: 0.9052 - val_accuracy: 0.5857\n",
      "Epoch 72/100\n",
      "3/3 [==============================] - 1s 419ms/step - loss: 0.3439 - accuracy: 0.8327 - val_loss: 0.9161 - val_accuracy: 0.6000\n",
      "Epoch 73/100\n",
      "3/3 [==============================] - 1s 424ms/step - loss: 0.3348 - accuracy: 0.8509 - val_loss: 0.8822 - val_accuracy: 0.5714\n",
      "Epoch 74/100\n",
      "3/3 [==============================] - 1s 400ms/step - loss: 0.3329 - accuracy: 0.8691 - val_loss: 0.8972 - val_accuracy: 0.5857\n",
      "Epoch 75/100\n",
      "3/3 [==============================] - 1s 271ms/step - loss: 0.3199 - accuracy: 0.8691 - val_loss: 0.9150 - val_accuracy: 0.5857\n",
      "Epoch 76/100\n",
      "3/3 [==============================] - 1s 419ms/step - loss: 0.3114 - accuracy: 0.8618 - val_loss: 0.9065 - val_accuracy: 0.5571\n",
      "Epoch 77/100\n",
      "3/3 [==============================] - 1s 260ms/step - loss: 0.3005 - accuracy: 0.8982 - val_loss: 0.9235 - val_accuracy: 0.5571\n",
      "Epoch 78/100\n",
      "3/3 [==============================] - 1s 252ms/step - loss: 0.2916 - accuracy: 0.8982 - val_loss: 0.9899 - val_accuracy: 0.6143\n",
      "Epoch 79/100\n",
      "3/3 [==============================] - 1s 414ms/step - loss: 0.3347 - accuracy: 0.8400 - val_loss: 0.9477 - val_accuracy: 0.5571\n",
      "Epoch 80/100\n",
      "3/3 [==============================] - 1s 248ms/step - loss: 0.2827 - accuracy: 0.8909 - val_loss: 1.0776 - val_accuracy: 0.6286\n",
      "Epoch 81/100\n",
      "3/3 [==============================] - 1s 249ms/step - loss: 0.2877 - accuracy: 0.8727 - val_loss: 1.0103 - val_accuracy: 0.6000\n",
      "Epoch 82/100\n",
      "3/3 [==============================] - 1s 425ms/step - loss: 0.2964 - accuracy: 0.8655 - val_loss: 0.9422 - val_accuracy: 0.5286\n",
      "Epoch 83/100\n",
      "3/3 [==============================] - 1s 257ms/step - loss: 0.2823 - accuracy: 0.9164 - val_loss: 1.0365 - val_accuracy: 0.6143\n",
      "Epoch 84/100\n",
      "3/3 [==============================] - 1s 431ms/step - loss: 0.3408 - accuracy: 0.8182 - val_loss: 0.9709 - val_accuracy: 0.6000\n",
      "Epoch 85/100\n",
      "3/3 [==============================] - 1s 282ms/step - loss: 0.2781 - accuracy: 0.8982 - val_loss: 1.0743 - val_accuracy: 0.5857\n",
      "Epoch 86/100\n",
      "3/3 [==============================] - 1s 282ms/step - loss: 0.2494 - accuracy: 0.9164 - val_loss: 0.9819 - val_accuracy: 0.5714\n",
      "Epoch 87/100\n",
      "3/3 [==============================] - 1s 261ms/step - loss: 0.2573 - accuracy: 0.9382 - val_loss: 1.1957 - val_accuracy: 0.6000\n",
      "Epoch 88/100\n",
      "3/3 [==============================] - 1s 253ms/step - loss: 0.2513 - accuracy: 0.8873 - val_loss: 1.2009 - val_accuracy: 0.6000\n",
      "Epoch 89/100\n",
      "3/3 [==============================] - 1s 262ms/step - loss: 0.2219 - accuracy: 0.9200 - val_loss: 1.1004 - val_accuracy: 0.5857\n",
      "Epoch 90/100\n",
      "3/3 [==============================] - 1s 256ms/step - loss: 0.2024 - accuracy: 0.9600 - val_loss: 1.1517 - val_accuracy: 0.5857\n",
      "Epoch 91/100\n",
      "3/3 [==============================] - 1s 253ms/step - loss: 0.2021 - accuracy: 0.9491 - val_loss: 1.1374 - val_accuracy: 0.5714\n",
      "Epoch 92/100\n",
      "3/3 [==============================] - 1s 225ms/step - loss: 0.1920 - accuracy: 0.9527 - val_loss: 1.0920 - val_accuracy: 0.5714\n",
      "Epoch 93/100\n",
      "3/3 [==============================] - 1s 269ms/step - loss: 0.1771 - accuracy: 0.9600 - val_loss: 1.2016 - val_accuracy: 0.5857\n",
      "Epoch 94/100\n",
      "3/3 [==============================] - 1s 415ms/step - loss: 0.1824 - accuracy: 0.9491 - val_loss: 1.1130 - val_accuracy: 0.5857\n",
      "Epoch 95/100\n",
      "3/3 [==============================] - 1s 263ms/step - loss: 0.1689 - accuracy: 0.9709 - val_loss: 1.1649 - val_accuracy: 0.5857\n",
      "Epoch 96/100\n",
      "3/3 [==============================] - 1s 453ms/step - loss: 0.1531 - accuracy: 0.9600 - val_loss: 1.2520 - val_accuracy: 0.5857\n",
      "Epoch 97/100\n",
      "3/3 [==============================] - 1s 433ms/step - loss: 0.1667 - accuracy: 0.9564 - val_loss: 1.2478 - val_accuracy: 0.5714\n",
      "Epoch 98/100\n",
      "3/3 [==============================] - 1s 412ms/step - loss: 0.1509 - accuracy: 0.9636 - val_loss: 1.3518 - val_accuracy: 0.5857\n",
      "Epoch 99/100\n",
      "3/3 [==============================] - 1s 410ms/step - loss: 0.1356 - accuracy: 0.9745 - val_loss: 1.3782 - val_accuracy: 0.6000\n",
      "Epoch 100/100\n",
      "3/3 [==============================] - 1s 416ms/step - loss: 0.1363 - accuracy: 0.9636 - val_loss: 1.4577 - val_accuracy: 0.6000\n"
     ]
    }
   ],
   "source": [
    "history = model.fit(\n",
    "            train_data_gen, #steps_per_epoch=train_steps,\n",
    "            validation_data=val_data_gen, #validation_steps=val_steps,\n",
    "            epochs=epochs)"
   ]
  },
  {
   "cell_type": "code",
   "execution_count": 6,
   "id": "42a8fb0b",
   "metadata": {
    "execution": {
     "iopub.execute_input": "2024-02-05T17:44:58.199217Z",
     "iopub.status.busy": "2024-02-05T17:44:58.198925Z",
     "iopub.status.idle": "2024-02-05T17:44:58.851935Z",
     "shell.execute_reply": "2024-02-05T17:44:58.851007Z"
    },
    "id": "5xS51mB56OAC",
    "outputId": "3a701612-75d3-4af9-e558-d2ca76ca7548",
    "papermill": {
     "duration": 0.69514,
     "end_time": "2024-02-05T17:44:58.854499",
     "exception": false,
     "start_time": "2024-02-05T17:44:58.159359",
     "status": "completed"
    },
    "tags": []
   },
   "outputs": [
    {
     "data": {
      "image/png": "[encoded data removed]",
      "text/plain": [
       "<Figure size 800x800 with 2 Axes>"
      ]
     },
     "metadata": {},
     "output_type": "display_data"
    }
   ],
   "source": [
    "acc = history.history['accuracy']\n",
    "val_acc = history.history['val_accuracy']\n",
    "\n",
    "loss = history.history['loss']\n",
    "val_loss = history.history['val_loss']\n",
    "\n",
    "epochs_range = range(epochs)\n",
    "\n",
    "plt.figure(figsize=(8, 8))\n",
    "plt.subplot(1, 2, 1)\n",
    "plt.plot(epochs_range, acc, label='Training Accuracy')\n",
    "plt.plot(epochs_range, val_acc, label='Validation Accuracy')\n",
    "plt.legend(loc='lower right')\n",
    "plt.title('Training and Validation Accuracy')\n",
    "\n",
    "plt.subplot(1, 2, 2)\n",
    "plt.plot(epochs_range, loss, label='Training Loss')\n",
    "plt.plot(epochs_range, val_loss, label='Validation Loss')\n",
    "plt.legend(loc='upper right')\n",
    "plt.title('Training and Validation Loss')\n",
    "plt.show()"
   ]
  }
 ],
 "metadata": {
  "colab": {
   "provenance": []
  },
  "kaggle": {
   "accelerator": "gpu",
   "dataSources": [
    {
     "datasetId": 23777,
     "sourceId": 30378,
     "sourceType": "datasetVersion"
    },
    {
     "datasetId": 110587,
     "sourceId": 264445,
     "sourceType": "datasetVersion"
    },
    {
     "datasetId": 137362,
     "sourceId": 325302,
     "sourceType": "datasetVersion"
    },
    {
     "datasetId": 650614,
     "sourceId": 1151625,
     "sourceType": "datasetVersion"
    },
    {
     "datasetId": 1611630,
     "sourceId": 2650236,
     "sourceType": "datasetVersion"
    },
    {
     "datasetId": 2716794,
     "sourceId": 4748798,
     "sourceType": "datasetVersion"
    },
    {
     "datasetId": 3917177,
     "sourceId": 6809272,
     "sourceType": "datasetVersion"
    }
   ],
   "dockerImageVersionId": 30635,
   "isGpuEnabled": true,
   "isInternetEnabled": true,
   "language": "python",
   "sourceType": "notebook"
  },
  "kernelspec": {
   "display_name": "Python 3",
   "language": "python",
   "name": "python3"
  },
  "language_info": {
   "codemirror_mode": {
    "name": "ipython",
    "version": 3
   },
   "file_extension": ".py",
   "mimetype": "text/x-python",
   "name": "python",
   "nbconvert_exporter": "python",
   "pygments_lexer": "ipython3",
   "version": "3.10.12"
  },
  "papermill": {
   "default_parameters": {},
   "duration": 115.419688,
   "end_time": "2024-02-05T17:45:01.546590",
   "environment_variables": {},
   "exception": null,
   "input_path": "__notebook__.ipynb",
   "output_path": "__notebook__.ipynb",
   "parameters": {},
   "start_time": "2024-02-05T17:43:06.126902",
   "version": "2.4.0"
  }
 },
 "nbformat": 4,
 "nbformat_minor": 5
}
