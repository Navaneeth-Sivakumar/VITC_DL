{
 "cells": [
  {
   "cell_type": "code",
   "execution_count": 1,
   "metadata": {},
   "outputs": [
    {
     "name": "stdout",
     "output_type": "stream",
     "text": [
      "Epoch 1/50\n",
      "1/1 [==============================] - 1s 827ms/step - loss: 0.2513 - binary_accuracy: 0.5000\n",
      "Epoch 2/50\n",
      "1/1 [==============================] - 0s 9ms/step - loss: 0.2510 - binary_accuracy: 0.2500\n",
      "Epoch 3/50\n",
      "1/1 [==============================] - 0s 8ms/step - loss: 0.2506 - binary_accuracy: 0.2500\n",
      "Epoch 4/50\n",
      "1/1 [==============================] - 0s 9ms/step - loss: 0.2503 - binary_accuracy: 0.5000\n",
      "Epoch 5/50\n",
      "1/1 [==============================] - 0s 8ms/step - loss: 0.2500 - binary_accuracy: 0.5000\n",
      "Epoch 6/50\n",
      "1/1 [==============================] - 0s 8ms/step - loss: 0.2496 - binary_accuracy: 0.5000\n",
      "Epoch 7/50\n",
      "1/1 [==============================] - 0s 0s/step - loss: 0.2493 - binary_accuracy: 0.5000\n",
      "Epoch 8/50\n",
      "1/1 [==============================] - 0s 0s/step - loss: 0.2490 - binary_accuracy: 0.5000\n",
      "Epoch 9/50\n",
      "1/1 [==============================] - 0s 0s/step - loss: 0.2487 - binary_accuracy: 0.5000\n",
      "Epoch 10/50\n",
      "1/1 [==============================] - 0s 2ms/step - loss: 0.2483 - binary_accuracy: 0.5000\n",
      "Epoch 11/50\n",
      "1/1 [==============================] - 0s 7ms/step - loss: 0.2480 - binary_accuracy: 0.5000\n",
      "Epoch 12/50\n",
      "1/1 [==============================] - 0s 8ms/step - loss: 0.2477 - binary_accuracy: 0.5000\n",
      "Epoch 13/50\n",
      "1/1 [==============================] - 0s 0s/step - loss: 0.2474 - binary_accuracy: 0.5000\n",
      "Epoch 14/50\n",
      "1/1 [==============================] - 0s 0s/step - loss: 0.2471 - binary_accuracy: 0.5000\n",
      "Epoch 15/50\n",
      "1/1 [==============================] - 0s 0s/step - loss: 0.2468 - binary_accuracy: 0.5000\n",
      "Epoch 16/50\n",
      "1/1 [==============================] - 0s 9ms/step - loss: 0.2465 - binary_accuracy: 0.5000\n",
      "Epoch 17/50\n",
      "1/1 [==============================] - 0s 8ms/step - loss: 0.2462 - binary_accuracy: 0.5000\n",
      "Epoch 18/50\n",
      "1/1 [==============================] - 0s 9ms/step - loss: 0.2459 - binary_accuracy: 0.5000\n",
      "Epoch 19/50\n",
      "1/1 [==============================] - 0s 98ms/step - loss: 0.2456 - binary_accuracy: 0.5000\n",
      "Epoch 20/50\n",
      "1/1 [==============================] - 0s 8ms/step - loss: 0.2453 - binary_accuracy: 0.5000\n",
      "Epoch 21/50\n",
      "1/1 [==============================] - 0s 0s/step - loss: 0.2451 - binary_accuracy: 0.5000\n",
      "Epoch 22/50\n",
      "1/1 [==============================] - 0s 10ms/step - loss: 0.2448 - binary_accuracy: 0.5000\n",
      "Epoch 23/50\n",
      "1/1 [==============================] - 0s 6ms/step - loss: 0.2445 - binary_accuracy: 0.5000\n",
      "Epoch 24/50\n",
      "1/1 [==============================] - 0s 0s/step - loss: 0.2442 - binary_accuracy: 0.5000\n",
      "Epoch 25/50\n",
      "1/1 [==============================] - 0s 0s/step - loss: 0.2439 - binary_accuracy: 0.5000\n",
      "Epoch 26/50\n",
      "1/1 [==============================] - 0s 8ms/step - loss: 0.2437 - binary_accuracy: 0.5000\n",
      "Epoch 27/50\n",
      "1/1 [==============================] - 0s 5ms/step - loss: 0.2434 - binary_accuracy: 0.5000\n",
      "Epoch 28/50\n",
      "1/1 [==============================] - 0s 0s/step - loss: 0.2431 - binary_accuracy: 0.5000\n",
      "Epoch 29/50\n",
      "1/1 [==============================] - 0s 0s/step - loss: 0.2429 - binary_accuracy: 0.5000\n",
      "Epoch 30/50\n",
      "1/1 [==============================] - 0s 8ms/step - loss: 0.2426 - binary_accuracy: 0.5000\n",
      "Epoch 31/50\n",
      "1/1 [==============================] - 0s 8ms/step - loss: 0.2423 - binary_accuracy: 0.5000\n",
      "Epoch 32/50\n",
      "1/1 [==============================] - 0s 0s/step - loss: 0.2421 - binary_accuracy: 0.5000\n",
      "Epoch 33/50\n",
      "1/1 [==============================] - 0s 0s/step - loss: 0.2418 - binary_accuracy: 0.5000\n",
      "Epoch 34/50\n",
      "1/1 [==============================] - 0s 8ms/step - loss: 0.2415 - binary_accuracy: 0.5000\n",
      "Epoch 35/50\n",
      "1/1 [==============================] - 0s 8ms/step - loss: 0.2413 - binary_accuracy: 0.5000\n",
      "Epoch 36/50\n",
      "1/1 [==============================] - 0s 4ms/step - loss: 0.2410 - binary_accuracy: 0.5000\n",
      "Epoch 37/50\n",
      "1/1 [==============================] - 0s 0s/step - loss: 0.2408 - binary_accuracy: 0.5000\n",
      "Epoch 38/50\n",
      "1/1 [==============================] - 0s 8ms/step - loss: 0.2405 - binary_accuracy: 0.5000\n",
      "Epoch 39/50\n",
      "1/1 [==============================] - 0s 8ms/step - loss: 0.2402 - binary_accuracy: 0.5000\n",
      "Epoch 40/50\n",
      "1/1 [==============================] - 0s 0s/step - loss: 0.2400 - binary_accuracy: 0.5000\n",
      "Epoch 41/50\n",
      "1/1 [==============================] - 0s 8ms/step - loss: 0.2397 - binary_accuracy: 0.5000\n",
      "Epoch 42/50\n",
      "1/1 [==============================] - 0s 8ms/step - loss: 0.2395 - binary_accuracy: 0.5000\n",
      "Epoch 43/50\n",
      "1/1 [==============================] - 0s 7ms/step - loss: 0.2392 - binary_accuracy: 0.5000\n",
      "Epoch 44/50\n",
      "1/1 [==============================] - 0s 0s/step - loss: 0.2389 - binary_accuracy: 0.5000\n",
      "Epoch 45/50\n",
      "1/1 [==============================] - 0s 0s/step - loss: 0.2387 - binary_accuracy: 0.5000\n",
      "Epoch 46/50\n",
      "1/1 [==============================] - 0s 8ms/step - loss: 0.2384 - binary_accuracy: 0.5000\n",
      "Epoch 47/50\n",
      "1/1 [==============================] - 0s 0s/step - loss: 0.2382 - binary_accuracy: 0.5000\n",
      "Epoch 48/50\n",
      "1/1 [==============================] - 0s 0s/step - loss: 0.2379 - binary_accuracy: 0.7500\n",
      "Epoch 49/50\n",
      "1/1 [==============================] - 0s 8ms/step - loss: 0.2376 - binary_accuracy: 0.7500\n",
      "Epoch 50/50\n",
      "1/1 [==============================] - 0s 4ms/step - loss: 0.2374 - binary_accuracy: 0.7500\n"
     ]
    },
    {
     "data": {
      "text/plain": [
       "<keras.src.callbacks.History at 0x2c94c7da950>"
      ]
     },
     "execution_count": 1,
     "metadata": {},
     "output_type": "execute_result"
    }
   ],
   "source": [
    "import numpy as np\n",
    "from keras.models import Sequential\n",
    "from keras.layers import Dense\n",
    "\n",
    "# the four different states of the XOR gate\n",
    "training_data = np.array([[0,0],[0,1],[1,0],[1,1]], \"float32\")\n",
    "\n",
    "# the four expected results in the same order\n",
    "target_data = np.array([[0],[1],[1],[0]], \"float32\")\n",
    "\n",
    "model = Sequential()\n",
    "model.add(Dense(16, input_dim=2, activation='relu'))\n",
    "model.add(Dense(1, activation='sigmoid'))\n",
    "\n",
    "model.compile(loss='mean_squared_error', optimizer='adam', metrics=['binary_accuracy'])\n",
    "\n",
    "model.fit(training_data, target_data, epochs=50)"
   ]
  },
  {
   "attachments": {},
   "cell_type": "markdown",
   "metadata": {},
   "source": [
    "output"
   ]
  },
  {
   "cell_type": "code",
   "execution_count": 2,
   "metadata": {},
   "outputs": [
    {
     "name": "stdout",
     "output_type": "stream",
     "text": [
      "1/1 [==============================] - 0s 106ms/step\n",
      "[[0.]\n",
      " [1.]\n",
      " [0.]\n",
      " [0.]]\n"
     ]
    }
   ],
   "source": [
    "print (model.predict(training_data).round())"
   ]
  }
 ],
 "metadata": {
  "kernelspec": {
   "display_name": "Python 3",
   "language": "python",
   "name": "python3"
  },
  "language_info": {
   "codemirror_mode": {
    "name": "ipython",
    "version": 3
   },
   "file_extension": ".py",
   "mimetype": "text/x-python",
   "name": "python",
   "nbconvert_exporter": "python",
   "pygments_lexer": "ipython3",
   "version": "3.11.7"
  },
  "orig_nbformat": 4
 },
 "nbformat": 4,
 "nbformat_minor": 2
}
