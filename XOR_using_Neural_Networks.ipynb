{
 "cells": [
  {
   "cell_type": "code",
   "execution_count": 1,
   "metadata": {},
   "outputs": [
    {
     "name": "stdout",
     "output_type": "stream",
     "text": [
      "Epoch 1/50\n",
      "1/1 [==============================] - 1s 631ms/step - loss: 0.2551 - binary_accuracy: 0.7500\n",
      "Epoch 2/50\n",
      "1/1 [==============================] - 0s 0s/step - loss: 0.2548 - binary_accuracy: 0.5000\n",
      "Epoch 3/50\n",
      "1/1 [==============================] - 0s 6ms/step - loss: 0.2544 - binary_accuracy: 0.5000\n",
      "Epoch 4/50\n",
      "1/1 [==============================] - 0s 3ms/step - loss: 0.2540 - binary_accuracy: 0.7500\n",
      "Epoch 5/50\n",
      "1/1 [==============================] - 0s 9ms/step - loss: 0.2537 - binary_accuracy: 0.7500\n",
      "Epoch 6/50\n",
      "1/1 [==============================] - 0s 4ms/step - loss: 0.2534 - binary_accuracy: 0.7500\n",
      "Epoch 7/50\n",
      "1/1 [==============================] - 0s 5ms/step - loss: 0.2530 - binary_accuracy: 0.7500\n",
      "Epoch 8/50\n",
      "1/1 [==============================] - 0s 6ms/step - loss: 0.2527 - binary_accuracy: 0.7500\n",
      "Epoch 9/50\n",
      "1/1 [==============================] - 0s 0s/step - loss: 0.2524 - binary_accuracy: 0.7500\n",
      "Epoch 10/50\n",
      "1/1 [==============================] - 0s 6ms/step - loss: 0.2520 - binary_accuracy: 0.7500\n",
      "Epoch 11/50\n",
      "1/1 [==============================] - 0s 6ms/step - loss: 0.2517 - binary_accuracy: 0.7500\n",
      "Epoch 12/50\n",
      "1/1 [==============================] - 0s 5ms/step - loss: 0.2514 - binary_accuracy: 0.7500\n",
      "Epoch 13/50\n",
      "1/1 [==============================] - 0s 5ms/step - loss: 0.2511 - binary_accuracy: 0.7500\n",
      "Epoch 14/50\n",
      "1/1 [==============================] - 0s 5ms/step - loss: 0.2507 - binary_accuracy: 0.7500\n",
      "Epoch 15/50\n",
      "1/1 [==============================] - 0s 1ms/step - loss: 0.2504 - binary_accuracy: 0.7500\n",
      "Epoch 16/50\n",
      "1/1 [==============================] - 0s 8ms/step - loss: 0.2501 - binary_accuracy: 0.7500\n",
      "Epoch 17/50\n",
      "1/1 [==============================] - 0s 4ms/step - loss: 0.2498 - binary_accuracy: 0.7500\n",
      "Epoch 18/50\n",
      "1/1 [==============================] - 0s 0s/step - loss: 0.2495 - binary_accuracy: 0.7500\n",
      "Epoch 19/50\n",
      "1/1 [==============================] - 0s 5ms/step - loss: 0.2492 - binary_accuracy: 0.7500\n",
      "Epoch 20/50\n",
      "1/1 [==============================] - 0s 0s/step - loss: 0.2489 - binary_accuracy: 0.7500\n",
      "Epoch 21/50\n",
      "1/1 [==============================] - 0s 111ms/step - loss: 0.2485 - binary_accuracy: 0.7500\n",
      "Epoch 22/50\n",
      "1/1 [==============================] - 0s 0s/step - loss: 0.2482 - binary_accuracy: 0.7500\n",
      "Epoch 23/50\n",
      "1/1 [==============================] - 0s 0s/step - loss: 0.2479 - binary_accuracy: 0.7500\n",
      "Epoch 24/50\n",
      "1/1 [==============================] - 0s 0s/step - loss: 0.2476 - binary_accuracy: 0.7500\n",
      "Epoch 25/50\n",
      "1/1 [==============================] - 0s 5ms/step - loss: 0.2473 - binary_accuracy: 0.7500\n",
      "Epoch 26/50\n",
      "1/1 [==============================] - 0s 0s/step - loss: 0.2470 - binary_accuracy: 0.7500\n",
      "Epoch 27/50\n",
      "1/1 [==============================] - 0s 10ms/step - loss: 0.2467 - binary_accuracy: 0.7500\n",
      "Epoch 28/50\n",
      "1/1 [==============================] - 0s 4ms/step - loss: 0.2464 - binary_accuracy: 0.7500\n",
      "Epoch 29/50\n",
      "1/1 [==============================] - 0s 0s/step - loss: 0.2461 - binary_accuracy: 0.7500\n",
      "Epoch 30/50\n",
      "1/1 [==============================] - 0s 12ms/step - loss: 0.2459 - binary_accuracy: 0.7500\n",
      "Epoch 31/50\n",
      "1/1 [==============================] - 0s 4ms/step - loss: 0.2456 - binary_accuracy: 0.7500\n",
      "Epoch 32/50\n",
      "1/1 [==============================] - 0s 0s/step - loss: 0.2453 - binary_accuracy: 0.7500\n",
      "Epoch 33/50\n",
      "1/1 [==============================] - 0s 12ms/step - loss: 0.2450 - binary_accuracy: 0.7500\n",
      "Epoch 34/50\n",
      "1/1 [==============================] - 0s 1ms/step - loss: 0.2447 - binary_accuracy: 0.7500\n",
      "Epoch 35/50\n",
      "1/1 [==============================] - 0s 6ms/step - loss: 0.2444 - binary_accuracy: 0.7500\n",
      "Epoch 36/50\n",
      "1/1 [==============================] - 0s 9ms/step - loss: 0.2441 - binary_accuracy: 0.7500\n",
      "Epoch 37/50\n",
      "1/1 [==============================] - 0s 0s/step - loss: 0.2439 - binary_accuracy: 0.7500\n",
      "Epoch 38/50\n",
      "1/1 [==============================] - 0s 0s/step - loss: 0.2436 - binary_accuracy: 0.7500\n",
      "Epoch 39/50\n",
      "1/1 [==============================] - 0s 3ms/step - loss: 0.2433 - binary_accuracy: 0.7500\n",
      "Epoch 40/50\n",
      "1/1 [==============================] - 0s 0s/step - loss: 0.2430 - binary_accuracy: 0.7500\n",
      "Epoch 41/50\n",
      "1/1 [==============================] - 0s 0s/step - loss: 0.2428 - binary_accuracy: 0.7500\n",
      "Epoch 42/50\n",
      "1/1 [==============================] - 0s 5ms/step - loss: 0.2425 - binary_accuracy: 0.7500\n",
      "Epoch 43/50\n",
      "1/1 [==============================] - 0s 0s/step - loss: 0.2423 - binary_accuracy: 0.7500\n",
      "Epoch 44/50\n",
      "1/1 [==============================] - 0s 0s/step - loss: 0.2421 - binary_accuracy: 0.7500\n",
      "Epoch 45/50\n",
      "1/1 [==============================] - 0s 15ms/step - loss: 0.2419 - binary_accuracy: 0.7500\n",
      "Epoch 46/50\n",
      "1/1 [==============================] - 0s 0s/step - loss: 0.2417 - binary_accuracy: 0.7500\n",
      "Epoch 47/50\n",
      "1/1 [==============================] - 0s 0s/step - loss: 0.2415 - binary_accuracy: 0.7500\n",
      "Epoch 48/50\n",
      "1/1 [==============================] - 0s 5ms/step - loss: 0.2413 - binary_accuracy: 0.7500\n",
      "Epoch 49/50\n",
      "1/1 [==============================] - 0s 4ms/step - loss: 0.2411 - binary_accuracy: 0.7500\n",
      "Epoch 50/50\n",
      "1/1 [==============================] - 0s 6ms/step - loss: 0.2409 - binary_accuracy: 0.7500\n"
     ]
    },
    {
     "data": {
      "text/plain": [
       "<keras.src.callbacks.History at 0x1f1d15aef90>"
      ]
     },
     "execution_count": 1,
     "metadata": {},
     "output_type": "execute_result"
    }
   ],
   "source": [
    "import numpy as np\n",
    "from keras.models import Sequential\n",
    "from keras.layers import Dense\n",
    "\n",
    "# the four different states of the XOR gate\n",
    "training_data = np.array([[0,0],[0,1],[1,0],[1,1]], \"float32\")\n",
    "\n",
    "# the four expected results in the same order\n",
    "target_data = np.array([[0],[1],[1],[0]], \"float32\")\n",
    "\n",
    "model = Sequential()\n",
    "model.add(Dense(16, input_dim=2, activation='relu'))\n",
    "model.add(Dense(1, activation='sigmoid'))\n",
    "\n",
    "model.compile(loss='mean_squared_error', optimizer='adam', metrics=['binary_accuracy'])\n",
    "\n",
    "model.fit(training_data, target_data, epochs=50)"
   ]
  },
  {
   "attachments": {},
   "cell_type": "markdown",
   "metadata": {},
   "source": [
    "output"
   ]
  },
  {
   "cell_type": "code",
   "execution_count": 2,
   "metadata": {},
   "outputs": [
    {
     "name": "stdout",
     "output_type": "stream",
     "text": [
      "1/1 [==============================] - 0s 92ms/step\n",
      "[[0.48824048]\n",
      " [0.553255  ]\n",
      " [0.5714985 ]\n",
      " [0.5839238 ]]\n"
     ]
    }
   ],
   "source": [
    "print (model.predict(training_data))"
   ]
  }
 ],
 "metadata": {
  "kernelspec": {
   "display_name": "Python 3",
   "language": "python",
   "name": "python3"
  },
  "language_info": {
   "codemirror_mode": {
    "name": "ipython",
    "version": 3
   },
   "file_extension": ".py",
   "mimetype": "text/x-python",
   "name": "python",
   "nbconvert_exporter": "python",
   "pygments_lexer": "ipython3",
   "version": "3.11.7"
  },
  "orig_nbformat": 4
 },
 "nbformat": 4,
 "nbformat_minor": 2
}
